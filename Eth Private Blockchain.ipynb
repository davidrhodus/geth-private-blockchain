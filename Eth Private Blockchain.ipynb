{
 "cells": [
  {
   "cell_type": "markdown",
   "metadata": {},
   "source": [
    "# Private Blockchain setup with geth via cli"
   ]
  },
  {
   "cell_type": "markdown",
   "metadata": {},
   "source": [
    "## Step 1\n",
    "- install geth"
   ]
  },
  {
   "cell_type": "markdown",
   "metadata": {},
   "source": [
    "## Step 2\n",
    "- Create genesis block file\n",
    "\n",
    "genesis.json\n",
    "\n",
    "{\n",
    "   \"config\": {\n",
    "      \"chainId\": 1994,\n",
    "      \"homesteadBlock\": 0,\n",
    "      \"eip155Block\": 0,\n",
    "      \"eip158Block\": 0,\n",
    "      \"byzantiumBlock\": 0\n",
    "   },\n",
    "   \"difficulty\": \"400\",\n",
    "   \"gasLimit\": \"2000000\",\n",
    "   \"alloc\": {\n",
    "      \"7b684d27167d208c66584ece7f09d8bc8f86ffff\": { \n",
    "          \"balance\": \"100000000000000000000000\" \n",
    "      },\n",
    "      \"ae13d41d66af28380c7af6d825ab557eb271ffff\": { \n",
    "          \"balance\": \"120000000000000000000000\" \n",
    "      }\n",
    "   }\n",
    "}\n"
   ]
  },
  {
   "cell_type": "markdown",
   "metadata": {},
   "source": [
    "### Config\n",
    "chainId — this is your chain’s identifier, and is used in replay protection.\n",
    "\n",
    "homesteadBlock, eip155Block, eip158Block, byzantiumBlock — these relate to chain forking and versioning, so in our case lets leave them 0 since we’re starting a new blockchain."
   ]
  },
  {
   "cell_type": "markdown",
   "metadata": {},
   "source": [
    "### difficulty\n",
    "\n",
    "This dictates how difficult it is to mine a block. Setting this value low (~10–10000) is helpful in a private blockchain as it lets you mine blocks quickly, which equals fast transactions, and plenty of ETH to test with. For comparison, the Ethereum mainnet Genesis file defines a difficulty of 17179869184."
   ]
  },
  {
   "cell_type": "markdown",
   "metadata": {},
   "source": [
    "### gasLimit\n",
    "\n",
    "This is the the total amount of gas that can be used in each block. With such a low mining difficulty, blocks will be moving pretty quick, but you should still set this value pretty high to avoid hitting the limit and slowing down your network."
   ]
  },
  {
   "cell_type": "markdown",
   "metadata": {},
   "source": [
    "### alloc\n",
    "Here you can allocate ETH to specific addresses. This won’t create the account for you, so make sure its an account you already have control of. You will need to add the account to your private chain in order to use it, and to do that you need access to the keystore/utc file. For example, Geth and MyEtherWallet give you access to this file when you create an account, but Metamask and Coinbase do not. The addresses provided are not real addresses, they are just examples. Here we allocate 100,000 and 120,000 ETH respectively."
   ]
  },
  {
   "cell_type": "markdown",
   "metadata": {},
   "source": [
    "## Step 3\n",
    "- Instantiate genesis block\n",
    "\n",
    "geth --datadir ./myDataDir init ./genesis.json\n"
   ]
  },
  {
   "cell_type": "markdown",
   "metadata": {},
   "source": [
    "## Step 4\n",
    "- Start the Ethereum node\n",
    "\n",
    "geth --datadir ./myDataDir --networkid 1114 console"
   ]
  },
  {
   "cell_type": "markdown",
   "metadata": {},
   "source": [
    "## Step 5 (working with geth console)\n",
    "- Create account\n",
    "\n",
    "personal.newAccount(\"<YOUR_PASSPHRASE>\")\n",
    "\n",
    "- Set default account\n",
    "\n",
    "miner.setEtherbase(web3.eth.accounts[0])\n",
    "\n",
    "- Start mining\n",
    "\n",
    "miner.start()\n",
    "\n",
    "- Check balance\n",
    "\n",
    "miner.stop()\n",
    "eth.getBalance(eth.coinbase)"
   ]
  },
  {
   "cell_type": "code",
   "execution_count": null,
   "metadata": {},
   "outputs": [],
   "source": []
  }
 ],
 "metadata": {
  "kernelspec": {
   "display_name": "Python 3",
   "language": "python",
   "name": "python3"
  },
  "language_info": {
   "codemirror_mode": {
    "name": "ipython",
    "version": 3
   },
   "file_extension": ".py",
   "mimetype": "text/x-python",
   "name": "python",
   "nbconvert_exporter": "python",
   "pygments_lexer": "ipython3",
   "version": "3.6.4"
  }
 },
 "nbformat": 4,
 "nbformat_minor": 2
}
